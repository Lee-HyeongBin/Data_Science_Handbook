{
 "cells": [
  {
   "cell_type": "markdown",
   "metadata": {},
   "source": [
    "# 간단한 라인 플롯"
   ]
  },
  {
   "cell_type": "code",
   "execution_count": null,
   "metadata": {
    "ExecuteTime": {
     "start_time": "2021-04-06T12:25:02.883Z"
    }
   },
   "outputs": [],
   "source": [
    "%matplotlib inline\n",
    "import matplotlib.pyplot as plt\n",
    "plt.style.use('seaborn-whitegrid')\n",
    "import numpy as np"
   ]
  },
  {
   "cell_type": "code",
   "execution_count": null,
   "metadata": {
    "ExecuteTime": {
     "start_time": "2021-04-06T12:25:02.887Z"
    }
   },
   "outputs": [],
   "source": [
    "fig = plt.figure()\n",
    "ax = plt.axes()"
   ]
  },
  {
   "cell_type": "code",
   "execution_count": null,
   "metadata": {
    "ExecuteTime": {
     "start_time": "2021-04-06T12:25:02.893Z"
    }
   },
   "outputs": [],
   "source": [
    "fig = plt.figure()\n",
    "ax = plt.axes()\n",
    "\n",
    "x = np.linspace(0, 10, 1000)\n",
    "ax.plot(x, np.sin(x))"
   ]
  },
  {
   "cell_type": "code",
   "execution_count": null,
   "metadata": {
    "ExecuteTime": {
     "start_time": "2021-04-06T12:25:02.903Z"
    }
   },
   "outputs": [],
   "source": [
    "plt.plot(x, np.sin(x))"
   ]
  },
  {
   "cell_type": "code",
   "execution_count": null,
   "metadata": {
    "ExecuteTime": {
     "start_time": "2021-04-06T12:25:02.914Z"
    }
   },
   "outputs": [],
   "source": [
    "plt.plot(x, np.sin(x))\n",
    "plt.plot(x, np.cos(x))"
   ]
  },
  {
   "cell_type": "markdown",
   "metadata": {},
   "source": [
    "## 플롯 수정하기 : 선 색상과 스타일"
   ]
  },
  {
   "cell_type": "code",
   "execution_count": null,
   "metadata": {
    "ExecuteTime": {
     "start_time": "2021-04-06T12:25:02.923Z"
    }
   },
   "outputs": [],
   "source": [
    "plt.plot(x, np.sin(x - 0), color = 'blue') # 이름으로 색상 지정\n",
    "plt.plot(x, np.sin(x - 1), color = 'g') # 짧은 색상 코드 (rgbcmyk)\n",
    "plt.plot(x, np.sin(x - 2), color = '0.75') # 0과 1사이로 회색조 지정\n",
    "plt.plot(x, np.sin(x - 3), color = '#FFDD44') # 16진수 코드(RRGGBB, 00~FF 사이)\n",
    "plt.plot(x, np.sin(x - 4), color = (1.0, 0.2, 0.3)) # RGB 튜플, 0과 1값\n",
    "plt.plot(x, np.sin(x - 5), color = 'chartreuse') # 모든 HTML 색상 이름을 지원"
   ]
  },
  {
   "cell_type": "code",
   "execution_count": null,
   "metadata": {
    "ExecuteTime": {
     "start_time": "2021-04-06T12:25:02.934Z"
    }
   },
   "outputs": [],
   "source": [
    "plt.plot(x, x + 0, linestyle = 'solid')\n",
    "plt.plot(x, x + 1, linestyle = 'dashed')\n",
    "plt.plot(x, x + 2, linestyle = 'dashdot')\n",
    "plt.plot(x, x + 3, linestyle = 'dotted')\n",
    "\n",
    "plt.plot(x, x + 4, linestyle = '-')\n",
    "plt.plot(x, x + 5, linestyle = '--')\n",
    "plt.plot(x, x + 6, linestyle = '-.')\n",
    "plt.plot(x, x + 7, linestyle = ':')"
   ]
  },
  {
   "cell_type": "code",
   "execution_count": null,
   "metadata": {
    "ExecuteTime": {
     "start_time": "2021-04-06T12:25:02.939Z"
    }
   },
   "outputs": [],
   "source": [
    "plt.plot(x, x + 0,'-g') # solid green\n",
    "plt.plot(x, x + 1,'--c') # dashed cyan\n",
    "plt.plot(x, x + 2,'-.k') # dashdot black\n",
    "plt.plot(x, x + 3, ':r') # dotted red"
   ]
  },
  {
   "cell_type": "markdown",
   "metadata": {},
   "source": [
    "## 플롯 조정하기 : 축 경계"
   ]
  },
  {
   "cell_type": "code",
   "execution_count": null,
   "metadata": {
    "ExecuteTime": {
     "start_time": "2021-04-06T12:25:02.948Z"
    }
   },
   "outputs": [],
   "source": [
    "plt.plot(x, np.sin(x))\n",
    "plt.xlim(-1, 11)\n",
    "plt.ylim(-1.5, 1.5)"
   ]
  },
  {
   "cell_type": "code",
   "execution_count": null,
   "metadata": {
    "ExecuteTime": {
     "start_time": "2021-04-06T12:25:02.955Z"
    }
   },
   "outputs": [],
   "source": [
    "# 역으로 축 표시 (아래가 +)\n",
    "plt.plot(x, np.sin(x))\n",
    "plt.xlim(10, 0)\n",
    "plt.ylim(1.2, -1.2)"
   ]
  },
  {
   "cell_type": "code",
   "execution_count": null,
   "metadata": {
    "ExecuteTime": {
     "start_time": "2021-04-06T12:25:02.966Z"
    }
   },
   "outputs": [],
   "source": [
    "plt.plot(x, np.sin(x))\n",
    "plt.axis([-1, 11, -1.5, 1.5])"
   ]
  },
  {
   "cell_type": "code",
   "execution_count": null,
   "metadata": {
    "ExecuteTime": {
     "start_time": "2021-04-06T12:25:02.973Z"
    }
   },
   "outputs": [],
   "source": [
    "plt.plot(x, np.sin(x))\n",
    "plt.axis('tight')"
   ]
  },
  {
   "cell_type": "code",
   "execution_count": null,
   "metadata": {
    "ExecuteTime": {
     "start_time": "2021-04-06T12:25:02.987Z"
    }
   },
   "outputs": [],
   "source": [
    "plt.plot(x, np.sin(x))\n",
    "plt.axis('equal')"
   ]
  },
  {
   "cell_type": "markdown",
   "metadata": {},
   "source": [
    "## 플롯에 레이블 붙이기"
   ]
  },
  {
   "cell_type": "code",
   "execution_count": null,
   "metadata": {
    "ExecuteTime": {
     "start_time": "2021-04-06T12:25:03.000Z"
    }
   },
   "outputs": [],
   "source": [
    "plt.plot(x, np.sin(x))\n",
    "plt.title(\"A Sine Curve\")\n",
    "plt.xlabel(\"x\")\n",
    "plt.ylabel(\"sin(x)\")"
   ]
  },
  {
   "cell_type": "code",
   "execution_count": null,
   "metadata": {
    "ExecuteTime": {
     "start_time": "2021-04-06T12:25:03.010Z"
    }
   },
   "outputs": [],
   "source": [
    "plt.plot(x, np.sin(x), '-g', label = 'sin(x)')\n",
    "plt.plot(x, np.cos(x), ':b', label = 'cos(x)')\n",
    "plt.axis('equal')\n",
    "plt.legend()"
   ]
  },
  {
   "cell_type": "markdown",
   "metadata": {},
   "source": [
    "### Matplotlib 주의사항\n",
    "* plt.xlabel() → ax.set_xlabel()\n",
    "* plt.ylabel() → ax.set_ylabel()\n",
    "* plt.xlim() → ax.set_xlim()\n",
    "* plt.ylim() → ax.set_ylim()\n",
    "* plt.title() → ax.set_title()"
   ]
  },
  {
   "cell_type": "code",
   "execution_count": null,
   "metadata": {
    "ExecuteTime": {
     "start_time": "2021-04-06T12:25:03.015Z"
    }
   },
   "outputs": [],
   "source": [
    "ax = plt.axes()\n",
    "ax.plot(x, np.sin(x))\n",
    "ax.set(xlim = (0, 10), ylim = (-2, 2), xlabel = 'x', ylabel = 'sin(x)', title = 'A Simple Plot')"
   ]
  }
 ],
 "metadata": {
  "kernelspec": {
   "display_name": "Python 3",
   "language": "python",
   "name": "python3"
  },
  "language_info": {
   "codemirror_mode": {
    "name": "ipython",
    "version": 3
   },
   "file_extension": ".py",
   "mimetype": "text/x-python",
   "name": "python",
   "nbconvert_exporter": "python",
   "pygments_lexer": "ipython3",
   "version": "3.7.4"
  },
  "toc": {
   "base_numbering": 1,
   "nav_menu": {},
   "number_sections": true,
   "sideBar": true,
   "skip_h1_title": false,
   "title_cell": "Table of Contents",
   "title_sidebar": "Contents",
   "toc_cell": false,
   "toc_position": {},
   "toc_section_display": true,
   "toc_window_display": false
  },
  "varInspector": {
   "cols": {
    "lenName": 16,
    "lenType": 16,
    "lenVar": 40
   },
   "kernels_config": {
    "python": {
     "delete_cmd_postfix": "",
     "delete_cmd_prefix": "del ",
     "library": "var_list.py",
     "varRefreshCmd": "print(var_dic_list())"
    },
    "r": {
     "delete_cmd_postfix": ") ",
     "delete_cmd_prefix": "rm(",
     "library": "var_list.r",
     "varRefreshCmd": "cat(var_dic_list()) "
    }
   },
   "types_to_exclude": [
    "module",
    "function",
    "builtin_function_or_method",
    "instance",
    "_Feature"
   ],
   "window_display": false
  }
 },
 "nbformat": 4,
 "nbformat_minor": 4
}
