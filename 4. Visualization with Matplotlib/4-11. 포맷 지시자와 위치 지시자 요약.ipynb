{
 "cells": [
  {
   "cell_type": "markdown",
   "metadata": {},
   "source": [
    "# 포맷 지시자와 위치 지시자 요약"
   ]
  },
  {
   "cell_type": "markdown",
   "metadata": {},
   "source": [
    "| 위치 지시자 클래스 | 설명 |\n",
    "| --- | --- |\n",
    "| NullLocator | 눈금이 없음 |\n",
    "| FixedLocator | 눈금 위치가 고정됨 |\n",
    "| IndexLocator | 인덱스 플롯을 위한 지시자 ( 예 : where x = range(len(y)) ) |\n",
    "| LinearLocator | min부터 max까지 일정한 간격을 두고 눈금을 위치시킴 |\n",
    "| LogLocator | min부터 max까지 로그 단위로 눈금을 위치시킴 |\n",
    "| MultipleLocator | 눈금 범위가 기본값의 배수임 |\n",
    "| MaxNLocator | 눈금 최대 숫자에 맞게 적절한 위치를 찾음 |\n",
    "| <b>AutoLocator</b> | <b>(Default) 간단한 기본값을 가지는 MaxNLocator</b> |\n",
    "| AutoMinorLocator | 보조 눈금에 대한 위치 지시자 |<br>\n",
    "\n",
    "| 서식 지시자 클래스 | 설명 |\n",
    "| --- | --- |\n",
    "| NullFormatter | 눈금 레이블이 없음 |\n",
    "| IndexFormatter | 레이블 목록에서 문자열을 설정함 |\n",
    "| FixedFormatter | 레이블에 직접 문자열을 설정함 |\n",
    "| FuncFormatter | 사용자 정의 함수가 레이블을 설정함 |\n",
    "| FormatStrFormatter | 각 값에 대한 포맷 문자열을 사용함 |\n",
    "| <b>ScalarFormatter</b> | <b>(Default) 스칼라값에 대한 포맷 지시자</b> |\n",
    "| LogFormatter | 로그 축에 대한 기본 포맷 지시자 |"
   ]
  }
 ],
 "metadata": {
  "kernelspec": {
   "display_name": "Python 3",
   "language": "python",
   "name": "python3"
  },
  "language_info": {
   "codemirror_mode": {
    "name": "ipython",
    "version": 3
   },
   "file_extension": ".py",
   "mimetype": "text/x-python",
   "name": "python",
   "nbconvert_exporter": "python",
   "pygments_lexer": "ipython3",
   "version": "3.7.4"
  },
  "toc": {
   "base_numbering": 1,
   "nav_menu": {},
   "number_sections": true,
   "sideBar": true,
   "skip_h1_title": false,
   "title_cell": "Table of Contents",
   "title_sidebar": "Contents",
   "toc_cell": false,
   "toc_position": {},
   "toc_section_display": true,
   "toc_window_display": false
  },
  "varInspector": {
   "cols": {
    "lenName": 16,
    "lenType": 16,
    "lenVar": 40
   },
   "kernels_config": {
    "python": {
     "delete_cmd_postfix": "",
     "delete_cmd_prefix": "del ",
     "library": "var_list.py",
     "varRefreshCmd": "print(var_dic_list())"
    },
    "r": {
     "delete_cmd_postfix": ") ",
     "delete_cmd_prefix": "rm(",
     "library": "var_list.r",
     "varRefreshCmd": "cat(var_dic_list()) "
    }
   },
   "types_to_exclude": [
    "module",
    "function",
    "builtin_function_or_method",
    "instance",
    "_Feature"
   ],
   "window_display": false
  }
 },
 "nbformat": 4,
 "nbformat_minor": 4
}
